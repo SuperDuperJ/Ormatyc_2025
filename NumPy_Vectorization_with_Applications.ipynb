{
 "cells": [
  {
   "cell_type": "markdown",
   "id": "f7eb4421",
   "metadata": {},
   "source": [
    "## Themes In This Talk\n",
    "\n",
    "* Jupyter Notebooks - a great teaching tool.\n",
    "\n",
    "* Teaching an Intro to Data Science course.\n",
    "    * Fall 2023 - I taught an Intro to Data Science course at OIT.\n",
    "    * Prerequisite: No Programming Experience - but all students had quite a bit.\n",
    "    * Python Libraries Covered: Python Standard Library, NumPy, Pandas, Sci-Kit Learn.\n",
    "    \n",
    "* Using industry standard docstrings as a way to communicate expectations.\n",
    "\n",
    "* Numpy\n",
    "\n",
    "* Vectorizaton with Numpy"
   ]
  },
  {
   "cell_type": "markdown",
   "id": "1fdfc517",
   "metadata": {},
   "source": [
    "#### A Few Prerequisites\n",
    "\n",
    "Comments: Any text after a $\\#$ symbol is not 'seen' by the computer.  These are for humans reading the code.\n",
    "\n",
    "$=$ versus $==$: In coding, $=$ is assignment and $==$ is what mathematicians think of when they write $=$."
   ]
  },
  {
   "cell_type": "markdown",
   "id": "ec6630e6",
   "metadata": {},
   "source": [
    "# Numpy\n",
    "\n",
    "Numpy (or *Numerical Python*) is a python array module (or library) that implements:\n",
    "\n",
    "* Linear Algebra - Matrices, Tensors, Matrix Operations, etc.\n",
    "* Vector Operations - Element-wise operations, array manipulations, etc. "
   ]
  },
  {
   "cell_type": "code",
   "execution_count": 1,
   "id": "1c4b9e32",
   "metadata": {},
   "outputs": [],
   "source": [
    "# This code tells python that we want to use the numpy module (library of objects, functions).\n",
    "import numpy as np"
   ]
  },
  {
   "cell_type": "markdown",
   "id": "cd1d0f0c",
   "metadata": {},
   "source": [
    "### The N-Dimensional Array Object\n",
    "\n",
    "The N-Dimensional Array (often abbreviated ndarray) is a multidimensional data structure or *container*.  The most common way to define an ndarray is to use the np.array function.\n",
    "\n",
    "##### Example 1"
   ]
  },
  {
   "cell_type": "code",
   "execution_count": 62,
   "id": "608b4f95",
   "metadata": {},
   "outputs": [
    {
     "data": {
      "text/plain": [
       "array([[1, 2, 3],\n",
       "       [4, 5, 6]])"
      ]
     },
     "execution_count": 62,
     "metadata": {},
     "output_type": "execute_result"
    }
   ],
   "source": [
    "#An ndarray\n",
    "A = np.array([[1,2,3],[4,5,6]])\n",
    "\n",
    "# In Jupyter Notebooks, the last line in a code cell is printed, provided it is something that can be printed.\n",
    "A"
   ]
  },
  {
   "cell_type": "markdown",
   "id": "071e25c8",
   "metadata": {},
   "source": [
    "The shape attribute tells us the shape of our array.  This will come in handy later."
   ]
  },
  {
   "cell_type": "code",
   "execution_count": 63,
   "id": "e49b9c5d",
   "metadata": {},
   "outputs": [
    {
     "data": {
      "text/plain": [
       "(2, 3)"
      ]
     },
     "execution_count": 63,
     "metadata": {},
     "output_type": "execute_result"
    }
   ],
   "source": [
    "A.shape"
   ]
  },
  {
   "cell_type": "markdown",
   "id": "0398d090",
   "metadata": {},
   "source": [
    "The exercises are taken straight from my STAT 201 course.\n",
    "\n",
    "##### NumPy Arrays Assignment: Exercise 1\n",
    "\n",
    "Write code so that the following function performs the way that its docstring indicates.  **The first step, initializing a matrix of size (n,n) has been done for you**.\n",
    "\n",
    "Example: times_table(3) should output a $3 \\times 3$ array that looks like $\\begin{pmatrix}\n",
    "    1& 2& 3\\\\\n",
    "    2& 4& 6 \\\\\n",
    "    3& 6& 9 \\\\\n",
    "\\end{pmatrix}$.\n",
    "\n",
    "times_table(5) should output a $5 \\times 5$ array that looks like $\\begin{pmatrix}\n",
    "    1& 2& 3&4 &5\\\\\n",
    "    2& 4& 6& 8& 10 \\\\\n",
    "    3& 6& 9& 12& 15 \\\\\n",
    "    4&8&12&16&20\\\\\n",
    "    5&10&15&20&25\n",
    "\\end{pmatrix}$.\n",
    "\n",
    "Hint: You will probably need to use a nested for-loop to do this.  Later in this chapter, when we get to **vectorization**, you will learn a way to do this without nested loops."
   ]
  },
  {
   "cell_type": "code",
   "execution_count": 14,
   "id": "d2eae619",
   "metadata": {},
   "outputs": [],
   "source": [
    "def times_table(n):\n",
    "    \"\"\"\n",
    "    Parameters\n",
    "    -----------\n",
    "    n: positive integer\n",
    "    \n",
    "    Returns\n",
    "    -----------\n",
    "    ndarray of shape (n,n) that forms a times table\n",
    "    \"\"\"\n",
    "    # This creates an n by n 0-matrix.\n",
    "    A = np.zeros((n,n), dtype = 'int32')\n",
    "    \n",
    "    ###### Below was left blank - students had to produce something like this. #####\n",
    "    \n",
    "    for i in range(n):\n",
    "        for j in range(n):\n",
    "            A[i][j] = (i+1)*(j+1)\n",
    "    return A"
   ]
  },
  {
   "cell_type": "code",
   "execution_count": 15,
   "id": "82f987d8",
   "metadata": {},
   "outputs": [
    {
     "name": "stdout",
     "output_type": "stream",
     "text": [
      "All tests passed.\n"
     ]
    }
   ],
   "source": [
    "A = np.array(list(range(1,11))*10).reshape(10,-1)\n",
    "\n",
    "if not np.allclose(times_table(3), np.array([1,2,3,2,4,6,3,6,9]).reshape(3,3)):\n",
    "    print(\"Something is wrong with your code.\")\n",
    "elif not np.allclose(times_table(10), A.T * A):\n",
    "    print(\"Something is wrong with your code.\")\n",
    "else:\n",
    "    print(\"All tests passed.\")"
   ]
  },
  {
   "cell_type": "markdown",
   "id": "1284bda6",
   "metadata": {},
   "source": [
    "# Numpy Vectorization\n",
    "\n"
   ]
  },
  {
   "cell_type": "markdown",
   "id": "ea0474d0",
   "metadata": {},
   "source": [
    "### What is Vectorization?\n",
    "\n",
    "\"*Vectorization* is the practice of replacing explicit loops with array expressions.\"  McKinney 2e, page 110\n",
    "\n",
    "A simple example will illustrate.\n",
    "\n",
    "##### Example 1"
   ]
  },
  {
   "cell_type": "code",
   "execution_count": 3,
   "id": "78162ecd",
   "metadata": {},
   "outputs": [
    {
     "data": {
      "text/plain": [
       "array([2, 2, 3, 4, 2, 2, 1, 1, 2, 4])"
      ]
     },
     "execution_count": 3,
     "metadata": {},
     "output_type": "execute_result"
    }
   ],
   "source": [
    "A = np.random.randint(1, 5, size = (10,))\n",
    "A"
   ]
  },
  {
   "cell_type": "markdown",
   "id": "e1062bac",
   "metadata": {},
   "source": [
    "**Problem**: Sum the numbers in $A$.\n",
    "\n",
    "**Solution 1**: This is **Not** vectorization."
   ]
  },
  {
   "cell_type": "code",
   "execution_count": 4,
   "id": "127d396b",
   "metadata": {},
   "outputs": [
    {
     "data": {
      "text/plain": [
       "23"
      ]
     },
     "execution_count": 4,
     "metadata": {},
     "output_type": "execute_result"
    }
   ],
   "source": [
    "sum = 0\n",
    "for x in A:\n",
    "    sum = sum + x\n",
    "sum"
   ]
  },
  {
   "cell_type": "markdown",
   "id": "c475229f",
   "metadata": {},
   "source": [
    "**Solution 2**: This **IS** vectorization."
   ]
  },
  {
   "cell_type": "code",
   "execution_count": 5,
   "id": "13805302",
   "metadata": {},
   "outputs": [
    {
     "data": {
      "text/plain": [
       "23"
      ]
     },
     "execution_count": 5,
     "metadata": {},
     "output_type": "execute_result"
    }
   ],
   "source": [
    "A.sum()"
   ]
  },
  {
   "cell_type": "markdown",
   "id": "d8b7d4ed",
   "metadata": {},
   "source": [
    "$\\Box$\n",
    "\n",
    "### Why Vectorization?\n",
    "\n",
    "\"In general, vectorized array operations will often be one or two (or more) orders of magnitude faster than their pure Python equivalents.\" McKinney 2e, Page 110\n",
    "\n",
    "##### Example 2\n",
    "\n",
    "Now $A$ contains $90$,$000$,$000$ integers."
   ]
  },
  {
   "cell_type": "code",
   "execution_count": 7,
   "id": "37eb5abf",
   "metadata": {},
   "outputs": [
    {
     "data": {
      "text/plain": [
       "array([4, 3, 2, ..., 2, 3, 3])"
      ]
     },
     "execution_count": 7,
     "metadata": {},
     "output_type": "execute_result"
    }
   ],
   "source": [
    "A = np.random.randint(1, 5, size = (90000000,))\n",
    "A"
   ]
  },
  {
   "cell_type": "markdown",
   "id": "0e36872b",
   "metadata": {},
   "source": [
    "**Problem**: Sum the numbers in $A$.\n",
    "\n",
    "**Solution 1**: This is **Not** vectorization."
   ]
  },
  {
   "cell_type": "code",
   "execution_count": 10,
   "id": "cb82f542",
   "metadata": {},
   "outputs": [
    {
     "data": {
      "text/plain": [
       "224994130"
      ]
     },
     "execution_count": 10,
     "metadata": {},
     "output_type": "execute_result"
    }
   ],
   "source": [
    "sum = 0\n",
    "for x in A:\n",
    "    sum = sum + x\n",
    "sum"
   ]
  },
  {
   "cell_type": "markdown",
   "id": "561d4079",
   "metadata": {},
   "source": [
    "**Solution 2**: This **IS** vectorization."
   ]
  },
  {
   "cell_type": "code",
   "execution_count": 11,
   "id": "a309820b",
   "metadata": {},
   "outputs": [
    {
     "data": {
      "text/plain": [
       "224994130"
      ]
     },
     "execution_count": 11,
     "metadata": {},
     "output_type": "execute_result"
    }
   ],
   "source": [
    "A.sum()"
   ]
  },
  {
   "cell_type": "markdown",
   "id": "ed94124c",
   "metadata": {},
   "source": [
    "$\\Box$\n",
    "\n",
    "##### Example 3\n",
    "\n",
    "We can perform arithmetic operations **element-wise** on Numpy arrays."
   ]
  },
  {
   "cell_type": "code",
   "execution_count": 20,
   "id": "5ab3d6fa",
   "metadata": {},
   "outputs": [
    {
     "data": {
      "text/plain": [
       "array([1., 1., 1., 1., 1., 1., 1., 1., 1., 1.])"
      ]
     },
     "execution_count": 20,
     "metadata": {},
     "output_type": "execute_result"
    }
   ],
   "source": [
    "A = np.ones((10,))\n",
    "A"
   ]
  },
  {
   "cell_type": "code",
   "execution_count": 22,
   "id": "54f3a8ed",
   "metadata": {},
   "outputs": [
    {
     "data": {
      "text/plain": [
       "array([2., 2., 2., 2., 2., 2., 2., 2., 2., 2.])"
      ]
     },
     "execution_count": 22,
     "metadata": {},
     "output_type": "execute_result"
    }
   ],
   "source": [
    "B = np.array([2.0]*10)\n",
    "B"
   ]
  },
  {
   "cell_type": "code",
   "execution_count": 23,
   "id": "833eb0a2",
   "metadata": {},
   "outputs": [
    {
     "data": {
      "text/plain": [
       "array([3., 3., 3., 3., 3., 3., 3., 3., 3., 3.])"
      ]
     },
     "execution_count": 23,
     "metadata": {},
     "output_type": "execute_result"
    }
   ],
   "source": [
    "# Addition\n",
    "A+B"
   ]
  },
  {
   "cell_type": "code",
   "execution_count": 24,
   "id": "fd964cce",
   "metadata": {},
   "outputs": [
    {
     "data": {
      "text/plain": [
       "array([4., 4., 4., 4., 4., 4., 4., 4., 4., 4.])"
      ]
     },
     "execution_count": 24,
     "metadata": {},
     "output_type": "execute_result"
    }
   ],
   "source": [
    "# Exponentiation\n",
    "B**2"
   ]
  },
  {
   "cell_type": "markdown",
   "id": "9c658590",
   "metadata": {},
   "source": [
    "$\\Box$\n",
    "\n",
    "##### Vectorization Assignment: Exercise 1\n",
    "\n",
    "Given a sequence of *observed values* $y_0,y_1,...,y_N$ and a sequence of *predicted values* $\\hat{y_0},\\hat{y_1},...,\\hat{y_N}$, the *Mean Squared Error* is defined as $$\\text{MSE} =\\frac{1}{N}((y_0-\\hat{y_0})^2+(y_1-\\hat{y_1})^2+...+(y_N-\\hat{y_N})^2)$$ \n",
    "\n",
    "Using summation notation this can be written as $$\\text{MSE} = \\frac{1}{N}\\sum_{i=0}^N(y_i-\\hat{y_i})^2$$\n",
    "\n",
    "In this exercise, your job is to write a function that computes the MSE given an array of observed values and an array of observed values.  You should try to do this using vectorization (no explicit loops)."
   ]
  },
  {
   "cell_type": "code",
   "execution_count": 25,
   "id": "4a0ab859",
   "metadata": {},
   "outputs": [],
   "source": [
    "def MSE(observed_values, predicted_values):\n",
    "    \"\"\"\n",
    "    Parameters\n",
    "    -----------\n",
    "    observed_values: ndarray of shape (N,)\n",
    "    predicted_values: ndarray of shape (N,)\n",
    "    \n",
    "    Returns\n",
    "    -----------\n",
    "    float: the MSE of the parameters\n",
    "    \"\"\"\n",
    "    "
   ]
  },
  {
   "cell_type": "code",
   "execution_count": 26,
   "id": "3b837eda",
   "metadata": {},
   "outputs": [
    {
     "name": "stdout",
     "output_type": "stream",
     "text": [
      "Something is wrong with your code.\n"
     ]
    }
   ],
   "source": [
    "A1 = np.ones((10,))\n",
    "B1 = np.array([2.0]*10)\n",
    "A2 = np.array(range(1,11))\n",
    "B2 = np.array(range(10,0,-1))\n",
    "\n",
    "if MSE(A1, B1) != 1.0:\n",
    "    print(\"Something is wrong with your code.\")\n",
    "elif MSE(A2,B2) != 33.0:\n",
    "    print(\"Something is wrong with your code.\")\n",
    "else:\n",
    "    print(\"All tests passed.\")"
   ]
  },
  {
   "cell_type": "markdown",
   "id": "3aa4e36e",
   "metadata": {},
   "source": [
    "$\\Box$\n",
    "\n",
    "### Mathematical Array Methods\n",
    "\n",
    "NumPy provides many mathematical functions that can be applied to a whole array or along an axis.  \n",
    "\n",
    "##### Example 4"
   ]
  },
  {
   "cell_type": "code",
   "execution_count": 8,
   "id": "d53f05ea",
   "metadata": {},
   "outputs": [
    {
     "data": {
      "text/plain": [
       "array([[1, 1, 1],\n",
       "       [2, 2, 2],\n",
       "       [3, 3, 3]])"
      ]
     },
     "execution_count": 8,
     "metadata": {},
     "output_type": "execute_result"
    }
   ],
   "source": [
    "A = np.array([[1]*3, [2]*3, [3]*3])\n",
    "A"
   ]
  },
  {
   "cell_type": "markdown",
   "id": "4617f87b",
   "metadata": {},
   "source": [
    "A.sum() adds all values in the array.\n",
    "\n",
    "If we pass the argument axis $= 0$, we sum vertically.  "
   ]
  },
  {
   "cell_type": "code",
   "execution_count": 9,
   "id": "7d09ddd2",
   "metadata": {},
   "outputs": [
    {
     "data": {
      "text/plain": [
       "array([6, 6, 6])"
      ]
     },
     "execution_count": 9,
     "metadata": {},
     "output_type": "execute_result"
    }
   ],
   "source": [
    "A.sum(axis = 0)"
   ]
  },
  {
   "cell_type": "markdown",
   "id": "febe7d6d",
   "metadata": {},
   "source": [
    "If we pass the argument axis $= 1$, we sum horizontally.  "
   ]
  },
  {
   "cell_type": "code",
   "execution_count": 10,
   "id": "8f2f000c",
   "metadata": {},
   "outputs": [
    {
     "data": {
      "text/plain": [
       "array([3, 6, 9])"
      ]
     },
     "execution_count": 10,
     "metadata": {},
     "output_type": "execute_result"
    }
   ],
   "source": [
    "A.sum(axis = 1)"
   ]
  },
  {
   "cell_type": "markdown",
   "id": "80f56d5c",
   "metadata": {},
   "source": [
    "$\\Box$\n",
    "\n",
    "##### Example 5\n",
    "\n",
    "We can do the same with the mean."
   ]
  },
  {
   "cell_type": "code",
   "execution_count": 13,
   "id": "609cb11e",
   "metadata": {},
   "outputs": [
    {
     "data": {
      "text/plain": [
       "array([[ 1,  2,  3,  4,  5],\n",
       "       [ 6,  7,  8,  9, 10],\n",
       "       [11, 12, 13, 14, 15],\n",
       "       [16, 17, 18, 19, 20]])"
      ]
     },
     "execution_count": 13,
     "metadata": {},
     "output_type": "execute_result"
    }
   ],
   "source": [
    "A = np.array(range(1,21)).reshape(4,5)\n",
    "A"
   ]
  },
  {
   "cell_type": "code",
   "execution_count": 15,
   "id": "42302ead",
   "metadata": {},
   "outputs": [
    {
     "data": {
      "text/plain": [
       "10.5"
      ]
     },
     "execution_count": 15,
     "metadata": {},
     "output_type": "execute_result"
    }
   ],
   "source": [
    "A.mean()"
   ]
  },
  {
   "cell_type": "code",
   "execution_count": 16,
   "id": "b25b5e56",
   "metadata": {},
   "outputs": [
    {
     "data": {
      "text/plain": [
       "array([ 8.5,  9.5, 10.5, 11.5, 12.5])"
      ]
     },
     "execution_count": 16,
     "metadata": {},
     "output_type": "execute_result"
    }
   ],
   "source": [
    "A.mean(axis = 0)"
   ]
  },
  {
   "cell_type": "code",
   "execution_count": 17,
   "id": "b4287311",
   "metadata": {},
   "outputs": [
    {
     "data": {
      "text/plain": [
       "array([ 3.,  8., 13., 18.])"
      ]
     },
     "execution_count": 17,
     "metadata": {},
     "output_type": "execute_result"
    }
   ],
   "source": [
    "A.mean(axis = 1)"
   ]
  },
  {
   "cell_type": "markdown",
   "id": "01ff790f",
   "metadata": {},
   "source": [
    "$\\Box$\n",
    "\n",
    "##### Vectorization Assignment: Exercise 2\n",
    "\n",
    "In many Machine Learning applications, it is assumed that the data is *mean-centered*.  A mean-centered data set has the following property:\n",
    "\n",
    "**The mean (or average) of each column is 0**.\n",
    "\n",
    "-------------\n",
    "\n",
    "As a sub-example, consider the following data set: $\\begin{pmatrix}\n",
    "    1& 2& 3\\\\\n",
    "    2& 4& 6 \\\\\n",
    "    3& 6& 9 \\\\\n",
    "\\end{pmatrix}$.  The mean of the colums are 2, 4, 6, respectively.  The mean-centered version of the data is then $\\begin{pmatrix}\n",
    "    1-2& 2-4& 3-6\\\\\n",
    "    2-2& 4-4& 6-6 \\\\\n",
    "    3-2& 6-4& 9-6 \\\\\n",
    "\\end{pmatrix}=\\begin{pmatrix}\n",
    "    -1& -2& -3\\\\\n",
    "    0& 0& 0 \\\\\n",
    "    1& 2& 3 \\\\\n",
    "\\end{pmatrix}$.  Notice that the mean (or average) of each column is 0.\n",
    "\n",
    "-----------------\n",
    "\n",
    "In this exercise, you are given a data set and it is your job to return the mean-centered version of this data set."
   ]
  },
  {
   "cell_type": "code",
   "execution_count": 23,
   "id": "5625c91a",
   "metadata": {},
   "outputs": [],
   "source": [
    "def mean_center(data):\n",
    "    \"\"\"\n",
    "    Parameters\n",
    "    -----------\n",
    "    data: ndarray\n",
    "    \n",
    "    Returns\n",
    "    -----------\n",
    "    ndarray that is the mean-centered version of the data\n",
    "    \"\"\"\n",
    "    ###### Below was left blank - students had to produce something like this. #####\n",
    "    \n",
    "    return data - data.mean(axis = 0)"
   ]
  },
  {
   "cell_type": "code",
   "execution_count": 24,
   "id": "b4d0917f",
   "metadata": {},
   "outputs": [
    {
     "name": "stdout",
     "output_type": "stream",
     "text": [
      "All tests passed.\n"
     ]
    }
   ],
   "source": [
    "D1 = np.array(range(20)).reshape(5,4)\n",
    "D1_bar = np.array([[-8.0]*4, [-4.0]*4, [0.0]*4, [4.0]*4, [8.0]*4])\n",
    "D2 = np.array([[1,5,2], [10,30,25], [-1,-3,0]])\n",
    "D2_bar = np.array([[-2.333, -5.666, -7.0],[6.666, 19.333, 16.0],[-4.333,-13.666, -9.0]])\n",
    "\n",
    "if not np.allclose(mean_center(D1), D1_bar, rtol=1e-7):\n",
    "    print(\"Something is wrong with your code.\")\n",
    "elif not np.allclose(mean_center(D2), D2_bar, rtol=1e-3):\n",
    "    print(\"Something is wrong with your code.\")\n",
    "else:\n",
    "    print(\"All tests passed.\")"
   ]
  },
  {
   "cell_type": "markdown",
   "id": "fa337984",
   "metadata": {},
   "source": [
    "##### An Important Subtlety\n",
    "\n",
    "Suppose that the data argument for the mean_center function was \n",
    "\n",
    "$\\text{data} = \\begin{pmatrix}\n",
    "    1& 2& 3\\\\\n",
    "    2& 4& 6 \\\\\n",
    "    3& 6& 9 \\\\\n",
    "\\end{pmatrix}$.  This array is two dimensional."
   ]
  },
  {
   "cell_type": "code",
   "execution_count": 27,
   "id": "f570276b",
   "metadata": {},
   "outputs": [
    {
     "data": {
      "text/plain": [
       "array([[1, 2, 3],\n",
       "       [2, 4, 6],\n",
       "       [3, 6, 9]])"
      ]
     },
     "execution_count": 27,
     "metadata": {},
     "output_type": "execute_result"
    }
   ],
   "source": [
    "data = np.array([1,2,3,2,4,6,3,6,9]).reshape(3,3)\n",
    "data"
   ]
  },
  {
   "cell_type": "markdown",
   "id": "7da2b55c",
   "metadata": {},
   "source": [
    "But, data.mean(axis = 0) produces a one-dimensional array. "
   ]
  },
  {
   "cell_type": "code",
   "execution_count": 28,
   "id": "7b5d37d1",
   "metadata": {},
   "outputs": [
    {
     "data": {
      "text/plain": [
       "array([2., 4., 6.])"
      ]
     },
     "execution_count": 28,
     "metadata": {},
     "output_type": "execute_result"
    }
   ],
   "source": [
    "data.mean(axis = 0)"
   ]
  },
  {
   "cell_type": "markdown",
   "id": "905cd326",
   "metadata": {},
   "source": [
    "So, how does this not throw an error?"
   ]
  },
  {
   "cell_type": "code",
   "execution_count": 29,
   "id": "18e95353",
   "metadata": {},
   "outputs": [
    {
     "data": {
      "text/plain": [
       "array([[-1., -2., -3.],\n",
       "       [ 0.,  0.,  0.],\n",
       "       [ 1.,  2.,  3.]])"
      ]
     },
     "execution_count": 29,
     "metadata": {},
     "output_type": "execute_result"
    }
   ],
   "source": [
    "data - data.mean(axis = 0)"
   ]
  },
  {
   "cell_type": "markdown",
   "id": "8715a4f0",
   "metadata": {},
   "source": [
    "Answer: *Broadcasting*.\n",
    "\n",
    "$\\Box$\n",
    "\n",
    "##### Example 6: The Times Table Function\n",
    "\n",
    "##### Solution 1: No Vectorization"
   ]
  },
  {
   "cell_type": "code",
   "execution_count": 30,
   "id": "907c3897",
   "metadata": {},
   "outputs": [],
   "source": [
    "def times_table(n):\n",
    "    A = np.zeros((n,n), dtype = 'int32')\n",
    "    for i in range(n):\n",
    "        for j in range(n):\n",
    "            A[i][j] = (i+1)*(j+1)\n",
    "    return A"
   ]
  },
  {
   "cell_type": "code",
   "execution_count": 31,
   "id": "cb06bc71",
   "metadata": {},
   "outputs": [
    {
     "data": {
      "text/plain": [
       "array([[  1,   2,   3,   4,   5,   6,   7,   8,   9,  10],\n",
       "       [  2,   4,   6,   8,  10,  12,  14,  16,  18,  20],\n",
       "       [  3,   6,   9,  12,  15,  18,  21,  24,  27,  30],\n",
       "       [  4,   8,  12,  16,  20,  24,  28,  32,  36,  40],\n",
       "       [  5,  10,  15,  20,  25,  30,  35,  40,  45,  50],\n",
       "       [  6,  12,  18,  24,  30,  36,  42,  48,  54,  60],\n",
       "       [  7,  14,  21,  28,  35,  42,  49,  56,  63,  70],\n",
       "       [  8,  16,  24,  32,  40,  48,  56,  64,  72,  80],\n",
       "       [  9,  18,  27,  36,  45,  54,  63,  72,  81,  90],\n",
       "       [ 10,  20,  30,  40,  50,  60,  70,  80,  90, 100]])"
      ]
     },
     "execution_count": 31,
     "metadata": {},
     "output_type": "execute_result"
    }
   ],
   "source": [
    "times_table(10)"
   ]
  },
  {
   "cell_type": "markdown",
   "id": "29b68c48",
   "metadata": {},
   "source": [
    "##### Solution 2: Using Vectorization\n",
    "\n",
    "Key observation: $\\begin{pmatrix}\n",
    "    1& 2& 3\\\\\n",
    "    2& 4& 6 \\\\\n",
    "    3& 6& 9 \\\\\n",
    "\\end{pmatrix}=\\begin{pmatrix}\n",
    "    1\\cdot 1& 2\\cdot 1& 3\\cdot 1\\\\\n",
    "    1 \\cdot 2& 2\\cdot 2& 3 \\cdot 2 \\\\\n",
    "    1 \\cdot 3& 2\\cdot 3& 3 \\cdot 3 \\\\\n",
    "\\end{pmatrix}=\\begin{pmatrix}\n",
    "    1& 2& 3\\\\\n",
    "    1& 2& 3 \\\\\n",
    "    1& 2& 3 \\\\\n",
    "\\end{pmatrix} * \\begin{pmatrix}\n",
    "    1& 1& 1\\\\\n",
    "    2& 2& 2 \\\\\n",
    "    3& 3& 3 \\\\\n",
    "\\end{pmatrix}=\\begin{pmatrix}\n",
    "    1& 2& 3\\\\\n",
    "    1& 2& 3 \\\\\n",
    "    1& 2& 3 \\\\\n",
    "\\end{pmatrix} * \\begin{pmatrix}\n",
    "    1& 2& 3\\\\\n",
    "    1& 2& 3 \\\\\n",
    "    1& 2& 3 \\\\\n",
    "\\end{pmatrix}^T$\n",
    "\n",
    "Solution:"
   ]
  },
  {
   "cell_type": "code",
   "execution_count": 39,
   "id": "4bee2e49",
   "metadata": {},
   "outputs": [],
   "source": [
    "def times_table(n):\n",
    "    A = np.array(list(range(1,n+1))*n).reshape(n,n)\n",
    "    return A*A.T"
   ]
  },
  {
   "cell_type": "code",
   "execution_count": 40,
   "id": "3d607e49",
   "metadata": {},
   "outputs": [
    {
     "data": {
      "text/plain": [
       "array([[  1,   2,   3,   4,   5,   6,   7,   8,   9,  10],\n",
       "       [  2,   4,   6,   8,  10,  12,  14,  16,  18,  20],\n",
       "       [  3,   6,   9,  12,  15,  18,  21,  24,  27,  30],\n",
       "       [  4,   8,  12,  16,  20,  24,  28,  32,  36,  40],\n",
       "       [  5,  10,  15,  20,  25,  30,  35,  40,  45,  50],\n",
       "       [  6,  12,  18,  24,  30,  36,  42,  48,  54,  60],\n",
       "       [  7,  14,  21,  28,  35,  42,  49,  56,  63,  70],\n",
       "       [  8,  16,  24,  32,  40,  48,  56,  64,  72,  80],\n",
       "       [  9,  18,  27,  36,  45,  54,  63,  72,  81,  90],\n",
       "       [ 10,  20,  30,  40,  50,  60,  70,  80,  90, 100]])"
      ]
     },
     "execution_count": 40,
     "metadata": {},
     "output_type": "execute_result"
    }
   ],
   "source": [
    "times_table(10)"
   ]
  },
  {
   "cell_type": "markdown",
   "id": "a743aeae",
   "metadata": {},
   "source": [
    "Breaking down the code, step by step:"
   ]
  },
  {
   "cell_type": "code",
   "execution_count": 34,
   "id": "e241dc6e",
   "metadata": {},
   "outputs": [
    {
     "data": {
      "text/plain": [
       "[1, 2]"
      ]
     },
     "execution_count": 34,
     "metadata": {},
     "output_type": "execute_result"
    }
   ],
   "source": [
    "n = 2\n",
    "\n",
    "list(range(1,n+1))"
   ]
  },
  {
   "cell_type": "code",
   "execution_count": 35,
   "id": "899b2932",
   "metadata": {},
   "outputs": [
    {
     "data": {
      "text/plain": [
       "[1, 2, 1, 2]"
      ]
     },
     "execution_count": 35,
     "metadata": {},
     "output_type": "execute_result"
    }
   ],
   "source": [
    "list(range(1,n+1))*n"
   ]
  },
  {
   "cell_type": "code",
   "execution_count": 36,
   "id": "cead5af0",
   "metadata": {},
   "outputs": [
    {
     "data": {
      "text/plain": [
       "array([1, 2, 1, 2])"
      ]
     },
     "execution_count": 36,
     "metadata": {},
     "output_type": "execute_result"
    }
   ],
   "source": [
    "np.array(list(range(1,n+1))*n)"
   ]
  },
  {
   "cell_type": "code",
   "execution_count": 37,
   "id": "f8bf28a9",
   "metadata": {},
   "outputs": [
    {
     "data": {
      "text/plain": [
       "array([[1, 2],\n",
       "       [1, 2]])"
      ]
     },
     "execution_count": 37,
     "metadata": {},
     "output_type": "execute_result"
    }
   ],
   "source": [
    "np.array(list(range(1,n+1))*n).reshape(n,n)"
   ]
  },
  {
   "cell_type": "markdown",
   "id": "4c65c772",
   "metadata": {},
   "source": [
    "Lets compare the speed of these two solutions."
   ]
  },
  {
   "cell_type": "code",
   "execution_count": 64,
   "id": "a6aa978e",
   "metadata": {},
   "outputs": [],
   "source": [
    "import time\n",
    "n=1000"
   ]
  },
  {
   "cell_type": "code",
   "execution_count": 48,
   "id": "65055b7f",
   "metadata": {},
   "outputs": [
    {
     "name": "stdout",
     "output_type": "stream",
     "text": [
      "--- 46.14466667175293 seconds ---\n"
     ]
    }
   ],
   "source": [
    "#Solution 1\n",
    "start_time = time.time()\n",
    "A = np.zeros((n,n), dtype = 'int32')\n",
    "for i in range(n):\n",
    "    for j in range(n):\n",
    "        A[i][j] = (i+1)*(j+1)\n",
    "print(\"--- %s seconds ---\" % (time.time() - start_time))"
   ]
  },
  {
   "cell_type": "code",
   "execution_count": 49,
   "id": "fe916d25",
   "metadata": {},
   "outputs": [
    {
     "name": "stdout",
     "output_type": "stream",
     "text": [
      "--- 8.277300119400024 seconds ---\n"
     ]
    }
   ],
   "source": [
    "#Solution 2\n",
    "start_time = time.time()\n",
    "A = np.array(list(range(1,n+1))*n).reshape(n,n)\n",
    "X = A*A.T\n",
    "print(\"--- %s seconds ---\" % (time.time() - start_time))"
   ]
  },
  {
   "cell_type": "markdown",
   "id": "233d2744",
   "metadata": {},
   "source": [
    "$\\Box$\n",
    "\n",
    "## Applications\n",
    "\n",
    "#### Distance Matrix\n",
    "\n",
    "Given a dataset (with $n$ data points - rows) partitioned into *training* and *test* subsets, we create a matrix whose $ij$-entry is the *Euclidean* distance ($L^2$-norm) from data point $i$ to data point $j$.\n",
    "\n",
    "$L^2$-Norm: $||\\vec{x}-\\vec{y}||_2 = \\sqrt{(\\vec{x}-\\vec{y}) \\cdot (\\vec{x}-\\vec{y})}$, where $\\cdot$ is the standard inner-product (dot product).\n",
    "\n",
    "##### Example 7: A Small Example"
   ]
  },
  {
   "cell_type": "code",
   "execution_count": 23,
   "id": "2e499568",
   "metadata": {},
   "outputs": [
    {
     "data": {
      "text/plain": [
       "array([[1, 1, 1],\n",
       "       [2, 2, 2]])"
      ]
     },
     "execution_count": 23,
     "metadata": {},
     "output_type": "execute_result"
    }
   ],
   "source": [
    "temp = np.ones((3,))\n",
    "X = np.array([temp, 2*temp], dtype = 'int32')\n",
    "X"
   ]
  },
  {
   "cell_type": "code",
   "execution_count": 24,
   "id": "d46d418a",
   "metadata": {},
   "outputs": [
    {
     "data": {
      "text/plain": [
       "array([[3, 3, 3],\n",
       "       [4, 4, 4],\n",
       "       [5, 5, 5],\n",
       "       [6, 6, 6]])"
      ]
     },
     "execution_count": 24,
     "metadata": {},
     "output_type": "execute_result"
    }
   ],
   "source": [
    "Y = np.array([3*temp, 4*temp, 5*temp, 6*temp], dtype = 'int32')\n",
    "Y"
   ]
  },
  {
   "cell_type": "markdown",
   "id": "37060ee2",
   "metadata": {},
   "source": [
    "We need a way to compare each row in $X$ with each row in $Y$.\n",
    "\n",
    "Enter the *repeat* method and *tile* function."
   ]
  },
  {
   "cell_type": "code",
   "execution_count": 25,
   "id": "9d5a1234",
   "metadata": {},
   "outputs": [
    {
     "data": {
      "text/plain": [
       "array([[1, 1, 1],\n",
       "       [1, 1, 1],\n",
       "       [1, 1, 1],\n",
       "       [1, 1, 1],\n",
       "       [2, 2, 2],\n",
       "       [2, 2, 2],\n",
       "       [2, 2, 2],\n",
       "       [2, 2, 2]])"
      ]
     },
     "execution_count": 25,
     "metadata": {},
     "output_type": "execute_result"
    }
   ],
   "source": [
    "X1 = X.repeat(4, axis=0)\n",
    "X1"
   ]
  },
  {
   "cell_type": "code",
   "execution_count": 26,
   "id": "1ab781c1",
   "metadata": {},
   "outputs": [
    {
     "data": {
      "text/plain": [
       "array([[3, 3, 3],\n",
       "       [4, 4, 4],\n",
       "       [5, 5, 5],\n",
       "       [6, 6, 6],\n",
       "       [3, 3, 3],\n",
       "       [4, 4, 4],\n",
       "       [5, 5, 5],\n",
       "       [6, 6, 6]])"
      ]
     },
     "execution_count": 26,
     "metadata": {},
     "output_type": "execute_result"
    }
   ],
   "source": [
    "Y1 = np.tile(Y, (2,1))\n",
    "Y1"
   ]
  },
  {
   "cell_type": "markdown",
   "id": "f74421a1",
   "metadata": {},
   "source": [
    "Now, we build the Euclidean Norm using vector operations."
   ]
  },
  {
   "cell_type": "code",
   "execution_count": 28,
   "id": "655cd6f7",
   "metadata": {},
   "outputs": [
    {
     "data": {
      "text/plain": [
       "array([[-2, -2, -2],\n",
       "       [-3, -3, -3],\n",
       "       [-4, -4, -4],\n",
       "       [-5, -5, -5],\n",
       "       [-1, -1, -1],\n",
       "       [-2, -2, -2],\n",
       "       [-3, -3, -3],\n",
       "       [-4, -4, -4]])"
      ]
     },
     "execution_count": 28,
     "metadata": {},
     "output_type": "execute_result"
    }
   ],
   "source": [
    "Z = X1 - Y1\n",
    "Z"
   ]
  },
  {
   "cell_type": "markdown",
   "id": "720436e4",
   "metadata": {},
   "source": [
    "Recall that * is element-wise (not matrix) multiplication."
   ]
  },
  {
   "cell_type": "code",
   "execution_count": 29,
   "id": "9c209f31",
   "metadata": {},
   "outputs": [
    {
     "data": {
      "text/plain": [
       "array([[ 4,  4,  4],\n",
       "       [ 9,  9,  9],\n",
       "       [16, 16, 16],\n",
       "       [25, 25, 25],\n",
       "       [ 1,  1,  1],\n",
       "       [ 4,  4,  4],\n",
       "       [ 9,  9,  9],\n",
       "       [16, 16, 16]])"
      ]
     },
     "execution_count": 29,
     "metadata": {},
     "output_type": "execute_result"
    }
   ],
   "source": [
    "# dot product\n",
    "Z*Z"
   ]
  },
  {
   "cell_type": "markdown",
   "id": "5e07a76a",
   "metadata": {},
   "source": [
    "Sum horizontally..."
   ]
  },
  {
   "cell_type": "code",
   "execution_count": 30,
   "id": "0441e498",
   "metadata": {},
   "outputs": [
    {
     "data": {
      "text/plain": [
       "array([12, 27, 48, 75,  3, 12, 27, 48])"
      ]
     },
     "execution_count": 30,
     "metadata": {},
     "output_type": "execute_result"
    }
   ],
   "source": [
    "(Z*Z).sum(axis = 1)"
   ]
  },
  {
   "cell_type": "markdown",
   "id": "708fd653",
   "metadata": {},
   "source": [
    "...take the square root..."
   ]
  },
  {
   "cell_type": "code",
   "execution_count": 31,
   "id": "8b5b7355",
   "metadata": {},
   "outputs": [
    {
     "data": {
      "text/plain": [
       "array([3.46410162, 5.19615242, 6.92820323, 8.66025404, 1.73205081,\n",
       "       3.46410162, 5.19615242, 6.92820323])"
      ]
     },
     "execution_count": 31,
     "metadata": {},
     "output_type": "execute_result"
    }
   ],
   "source": [
    "np.sqrt((Z*Z).sum(axis = 1))"
   ]
  },
  {
   "cell_type": "markdown",
   "id": "4d0f20c9",
   "metadata": {},
   "source": [
    "...and reshape into a $2\\times 4$ distance matrix."
   ]
  },
  {
   "cell_type": "code",
   "execution_count": 32,
   "id": "76fa0c93",
   "metadata": {},
   "outputs": [
    {
     "data": {
      "text/plain": [
       "array([[3.46410162, 5.19615242, 6.92820323, 8.66025404],\n",
       "       [1.73205081, 3.46410162, 5.19615242, 6.92820323]])"
      ]
     },
     "execution_count": 32,
     "metadata": {},
     "output_type": "execute_result"
    }
   ],
   "source": [
    "np.sqrt((Z*Z).sum(axis = 1)).reshape((2,4))"
   ]
  },
  {
   "cell_type": "markdown",
   "id": "f7ecacae",
   "metadata": {},
   "source": [
    "$\\Box$\n",
    "\n",
    "In general:"
   ]
  },
  {
   "cell_type": "code",
   "execution_count": 33,
   "id": "433c2b2c",
   "metadata": {},
   "outputs": [],
   "source": [
    "def distance_matrix(X, Y):\n",
    "    \"\"\"Compute the pairwise distance between rows of X and rows of Y\n",
    "\n",
    "    Arguments\n",
    "    ----------\n",
    "    X: ndarray of size (N, D)\n",
    "    Y: ndarray of size (M, D)\n",
    "    \n",
    "    Returns\n",
    "    --------\n",
    "    D: matrix of shape (N, M), each entry D[i,j] is the Euclidean distance between\n",
    "    X[i] and Y[j].\n",
    "    \"\"\"\n",
    "    \n",
    "    N = X.shape[0]\n",
    "    M = Y.shape[0]\n",
    "    X1=X.repeat(M, axis=0)\n",
    "    Y1=np.tile(Y, (N,1))\n",
    "    Z=X1-Y1\n",
    "    distance_matrix = np.sqrt((Z*Z).sum(axis=1).reshape((N,M)))\n",
    "    return distance_matrix "
   ]
  },
  {
   "cell_type": "markdown",
   "id": "7448927c",
   "metadata": {},
   "source": [
    "$\\Box$\n",
    "\n",
    "##### Confusion Matrix\n",
    "\n",
    "The confusion matrix shows the number of *True Positives*, *True Negatives*, *False Positives*, and *False Negatives* for a classifier algorithm."
   ]
  },
  {
   "cell_type": "code",
   "execution_count": 34,
   "id": "b0a0c187",
   "metadata": {},
   "outputs": [],
   "source": [
    "import pandas as pd"
   ]
  },
  {
   "cell_type": "code",
   "execution_count": 39,
   "id": "a26a9e42",
   "metadata": {},
   "outputs": [
    {
     "data": {
      "text/html": [
       "<div>\n",
       "<style scoped>\n",
       "    .dataframe tbody tr th:only-of-type {\n",
       "        vertical-align: middle;\n",
       "    }\n",
       "\n",
       "    .dataframe tbody tr th {\n",
       "        vertical-align: top;\n",
       "    }\n",
       "\n",
       "    .dataframe thead th {\n",
       "        text-align: right;\n",
       "    }\n",
       "</style>\n",
       "<table border=\"1\" class=\"dataframe\">\n",
       "  <thead>\n",
       "    <tr style=\"text-align: right;\">\n",
       "      <th></th>\n",
       "      <th>1</th>\n",
       "      <th>0</th>\n",
       "    </tr>\n",
       "  </thead>\n",
       "  <tbody>\n",
       "    <tr>\n",
       "      <th>1</th>\n",
       "      <td>TP</td>\n",
       "      <td>FN</td>\n",
       "    </tr>\n",
       "    <tr>\n",
       "      <th>0</th>\n",
       "      <td>FP</td>\n",
       "      <td>TN</td>\n",
       "    </tr>\n",
       "  </tbody>\n",
       "</table>\n",
       "</div>"
      ],
      "text/plain": [
       "    1   0\n",
       "1  TP  FN\n",
       "0  FP  TN"
      ]
     },
     "execution_count": 39,
     "metadata": {},
     "output_type": "execute_result"
    }
   ],
   "source": [
    "confusion_matrix = pd.DataFrame({'1': ['TP', 'FP'], '0': ['FN', 'TN']}, index = ['1', '0'])\n",
    "confusion_matrix"
   ]
  },
  {
   "cell_type": "markdown",
   "id": "fd16a083",
   "metadata": {},
   "source": [
    "##### Example 8\n",
    "\n",
    "Suppose that a *machine learning* algorithm makes the following predictions $$\\hat{Y} = \\begin{pmatrix}\n",
    "    1& 0& 1& 0& 0& 1& 0& 1& 1& 0\\\\\n",
    "\\end{pmatrix}$$ of the following true labels $$Y = \\begin{pmatrix}\n",
    "    1& 1& 0& 0& 0& 0& 1& 1& 1& 0\\\\\n",
    "\\end{pmatrix} \\text{.}$$ "
   ]
  },
  {
   "cell_type": "code",
   "execution_count": 40,
   "id": "b1707774",
   "metadata": {},
   "outputs": [
    {
     "data": {
      "text/plain": [
       "array([1, 0, 1, 0, 0, 1, 0, 1, 1, 0])"
      ]
     },
     "execution_count": 40,
     "metadata": {},
     "output_type": "execute_result"
    }
   ],
   "source": [
    "#Y contains our correct answers\n",
    "Y = np.array([1,0,1,0,0,1,0,1,1,0])\n",
    "Y"
   ]
  },
  {
   "cell_type": "code",
   "execution_count": 41,
   "id": "14c153ef",
   "metadata": {},
   "outputs": [
    {
     "data": {
      "text/plain": [
       "array([1, 1, 0, 0, 0, 0, 1, 1, 1, 0])"
      ]
     },
     "execution_count": 41,
     "metadata": {},
     "output_type": "execute_result"
    }
   ],
   "source": [
    "#Y_hat contains our predictions\n",
    "Y_hat = np.array([1,1,0,0,0,0,1,1,1,0])\n",
    "Y_hat"
   ]
  },
  {
   "cell_type": "markdown",
   "id": "c0b740a8",
   "metadata": {},
   "source": [
    "##### True Positives (TP)\n",
    "\n",
    "$\\hat{Y}[i]=1 \\text{ when } Y[i]=1$"
   ]
  },
  {
   "cell_type": "code",
   "execution_count": 51,
   "id": "a6a84f32",
   "metadata": {},
   "outputs": [
    {
     "data": {
      "text/plain": [
       "3"
      ]
     },
     "execution_count": 51,
     "metadata": {},
     "output_type": "execute_result"
    }
   ],
   "source": [
    "TP = (Y*Y_hat).sum()\n",
    "TP"
   ]
  },
  {
   "cell_type": "markdown",
   "id": "7c196397",
   "metadata": {},
   "source": [
    "##### True Negatives (TN)\n",
    "\n",
    "$\\hat{Y}[i]=0 \\text{ when } Y[i]=0$\n",
    "\n",
    "TN $=$ (TP $+$ TN) $-$ TP"
   ]
  },
  {
   "cell_type": "code",
   "execution_count": 52,
   "id": "05294c34",
   "metadata": {},
   "outputs": [
    {
     "data": {
      "text/plain": [
       "3"
      ]
     },
     "execution_count": 52,
     "metadata": {},
     "output_type": "execute_result"
    }
   ],
   "source": [
    "TN = (Y == Y_hat).sum() - (Y*Y_hat).sum()\n",
    "TN"
   ]
  },
  {
   "cell_type": "markdown",
   "id": "a84b3973",
   "metadata": {},
   "source": [
    "##### False Positives\n",
    "\n",
    "$\\hat{Y}[i]=1 \\text{ when } Y[i]=0$\n",
    "\n",
    "We use the *bitwise* operator $\\&$."
   ]
  },
  {
   "cell_type": "code",
   "execution_count": 49,
   "id": "ea956a5d",
   "metadata": {},
   "outputs": [
    {
     "data": {
      "text/plain": [
       "array([False,  True, False, False, False, False,  True, False, False,\n",
       "       False])"
      ]
     },
     "execution_count": 49,
     "metadata": {},
     "output_type": "execute_result"
    }
   ],
   "source": [
    "((Y_hat == 1) & (Y == 0))"
   ]
  },
  {
   "cell_type": "code",
   "execution_count": 53,
   "id": "ca5d6999",
   "metadata": {},
   "outputs": [
    {
     "data": {
      "text/plain": [
       "2"
      ]
     },
     "execution_count": 53,
     "metadata": {},
     "output_type": "execute_result"
    }
   ],
   "source": [
    "FP = ((Y_hat == 1) & (Y == 0)).sum()\n",
    "FP"
   ]
  },
  {
   "cell_type": "markdown",
   "id": "9b3f7b90",
   "metadata": {},
   "source": [
    "##### False Negatives\n",
    "\n",
    "$\\hat{Y}[i]=0 \\text{ when } Y[i]=1$"
   ]
  },
  {
   "cell_type": "code",
   "execution_count": 58,
   "id": "1aaa11c7",
   "metadata": {},
   "outputs": [
    {
     "data": {
      "text/plain": [
       "array([False, False,  True, False, False,  True, False, False, False,\n",
       "       False])"
      ]
     },
     "execution_count": 58,
     "metadata": {},
     "output_type": "execute_result"
    }
   ],
   "source": [
    "(Y_hat == 0)&(Y == 1)"
   ]
  },
  {
   "cell_type": "code",
   "execution_count": 60,
   "id": "6b689e5a",
   "metadata": {},
   "outputs": [
    {
     "data": {
      "text/plain": [
       "2"
      ]
     },
     "execution_count": 60,
     "metadata": {},
     "output_type": "execute_result"
    }
   ],
   "source": [
    "FN = ((Y_hat == 0)&(Y == 1)).sum()\n",
    "FN"
   ]
  },
  {
   "cell_type": "markdown",
   "id": "d2cb100b",
   "metadata": {},
   "source": [
    "$\\Box$\n",
    "\n",
    "##### Confusion Matrix\n",
    "\n",
    "Recall that \n",
    "\n",
    "$\\hat{Y} = \\begin{pmatrix}\n",
    "    1& 0& 1& 0& 0& 1& 0& 1& 1& 0\\\\\n",
    "\\end{pmatrix}$\n",
    "\n",
    "and\n",
    "\n",
    "$Y = \\begin{pmatrix}\n",
    "    1& 1& 0& 0& 0& 0& 1& 1& 1& 0\\\\\n",
    "\\end{pmatrix}$."
   ]
  },
  {
   "cell_type": "code",
   "execution_count": 61,
   "id": "1729e11a",
   "metadata": {},
   "outputs": [
    {
     "data": {
      "text/html": [
       "<div>\n",
       "<style scoped>\n",
       "    .dataframe tbody tr th:only-of-type {\n",
       "        vertical-align: middle;\n",
       "    }\n",
       "\n",
       "    .dataframe tbody tr th {\n",
       "        vertical-align: top;\n",
       "    }\n",
       "\n",
       "    .dataframe thead th {\n",
       "        text-align: right;\n",
       "    }\n",
       "</style>\n",
       "<table border=\"1\" class=\"dataframe\">\n",
       "  <thead>\n",
       "    <tr style=\"text-align: right;\">\n",
       "      <th></th>\n",
       "      <th>1</th>\n",
       "      <th>0</th>\n",
       "    </tr>\n",
       "  </thead>\n",
       "  <tbody>\n",
       "    <tr>\n",
       "      <th>1</th>\n",
       "      <td>3</td>\n",
       "      <td>2</td>\n",
       "    </tr>\n",
       "    <tr>\n",
       "      <th>0</th>\n",
       "      <td>2</td>\n",
       "      <td>3</td>\n",
       "    </tr>\n",
       "  </tbody>\n",
       "</table>\n",
       "</div>"
      ],
      "text/plain": [
       "   1  0\n",
       "1  3  2\n",
       "0  2  3"
      ]
     },
     "execution_count": 61,
     "metadata": {},
     "output_type": "execute_result"
    }
   ],
   "source": [
    "confusion_matrix = pd.DataFrame({'1': [TP, FP], '0': [FN, TN]}, index = ['1', '0'])\n",
    "confusion_matrix"
   ]
  },
  {
   "cell_type": "markdown",
   "id": "a555f45e",
   "metadata": {},
   "source": [
    "$\\Box$\n",
    "\n",
    "### Thanks for Coming to My Talk!!!"
   ]
  },
  {
   "cell_type": "code",
   "execution_count": null,
   "id": "c3b7e0f6",
   "metadata": {},
   "outputs": [],
   "source": []
  }
 ],
 "metadata": {
  "kernelspec": {
   "display_name": "Python 3 (ipykernel)",
   "language": "python",
   "name": "python3"
  },
  "language_info": {
   "codemirror_mode": {
    "name": "ipython",
    "version": 3
   },
   "file_extension": ".py",
   "mimetype": "text/x-python",
   "name": "python",
   "nbconvert_exporter": "python",
   "pygments_lexer": "ipython3",
   "version": "3.9.12"
  }
 },
 "nbformat": 4,
 "nbformat_minor": 5
}
